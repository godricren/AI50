{
 "cells": [
  {
   "cell_type": "code",
   "execution_count": null,
   "id": "initial_id",
   "metadata": {
    "collapsed": true
   },
   "outputs": [],
   "source": [
    "\"\"\"\n",
    "w = [ 1, 2, 3, 4, 5 ]\n",
    "x = [11, 32, 54, 75, 81]\n",
    "b = 88\n",
    "\n",
    "f = wx + b\n",
    "\"\"\""
   ]
  },
  {
   "metadata": {
    "ExecuteTime": {
     "end_time": "2025-05-05T11:02:46.679848Z",
     "start_time": "2025-05-05T11:02:46.676871Z"
    }
   },
   "cell_type": "code",
   "source": [
    "w = [ 1, 2, 3, 4, 5 ]\n",
    "x = [11, 32, 54, 75, 81]\n",
    "b = 88\n",
    "\n",
    "f = w[0]*x[0] + w[1]*x[1] + w[2]*x[2] + w[3]*x[3] + w[4]*x[4]  + b\n",
    "print(f)"
   ],
   "id": "9c3ca9b5668cc8c0",
   "outputs": [
    {
     "name": "stdout",
     "output_type": "stream",
     "text": [
      "1030\n"
     ]
    }
   ],
   "execution_count": 16
  },
  {
   "metadata": {
    "ExecuteTime": {
     "end_time": "2025-05-05T11:03:58.051724Z",
     "start_time": "2025-05-05T11:03:58.048522Z"
    }
   },
   "cell_type": "code",
   "source": [
    "f=0\n",
    "for i in range(5):\n",
    "     f = f+ w[i]*x[i]\n",
    "print(f+b)"
   ],
   "id": "cb976a6170a2c4e9",
   "outputs": [
    {
     "name": "stdout",
     "output_type": "stream",
     "text": [
      "1030\n"
     ]
    }
   ],
   "execution_count": 18
  },
  {
   "metadata": {
    "ExecuteTime": {
     "end_time": "2025-05-05T11:04:41.874563Z",
     "start_time": "2025-05-05T11:04:41.788042Z"
    }
   },
   "cell_type": "code",
   "source": [
    "import numpy as np\n",
    "\n",
    "w = np.array(w)\n",
    "x = np.array(x)\n",
    "f = np.dot(w, x) +b\n",
    "print(f)"
   ],
   "id": "3c915e48eaec25cf",
   "outputs": [
    {
     "name": "stdout",
     "output_type": "stream",
     "text": [
      "1030\n"
     ]
    }
   ],
   "execution_count": 19
  },
  {
   "metadata": {},
   "cell_type": "code",
   "outputs": [],
   "execution_count": null,
   "source": "",
   "id": "3868945ba907e9c5"
  }
 ],
 "metadata": {
  "kernelspec": {
   "display_name": "Python 3",
   "language": "python",
   "name": "python3"
  },
  "language_info": {
   "codemirror_mode": {
    "name": "ipython",
    "version": 2
   },
   "file_extension": ".py",
   "mimetype": "text/x-python",
   "name": "python",
   "nbconvert_exporter": "python",
   "pygments_lexer": "ipython2",
   "version": "2.7.6"
  }
 },
 "nbformat": 4,
 "nbformat_minor": 5
}
